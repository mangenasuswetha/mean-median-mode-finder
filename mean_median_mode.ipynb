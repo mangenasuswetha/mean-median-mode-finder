{
 "cells": [
  {
   "cell_type": "code",
   "execution_count": null,
   "id": "b56792bd",
   "metadata": {},
   "outputs": [],
   "source": [
    "file=input(\"Save the file as csv!!\\ndelete the double quotes after the entering the path:\")\n",
    "import pandas as pd\n",
    "import statistics\n",
    "data=pd.read_csv(file)\n",
    "print(data.columns)\n",
    "number = input(\"Enter the column name:[enter without single quotes]\")\n",
    "number2=input(\"Enter the second column name:\")\n",
    "n2=statistics.mean(data[number2])\n",
    "n1=statistics.mean(data[number])\n",
    "if n1==n2:\n",
    "    print(\"There is no difference in the give column.Hence the values are same\")\n",
    "elif n1>n2:\n",
    "    print(\"The column1 greater mean than the  column2\")\n",
    "else:\n",
    "    print(\"The column2 greater mean than the  column1\")\n",
    "nmed2=statistics.median(data[number2])\n",
    "nmed1=statistics.median(data[number])\n",
    "if nmed1==nmed2:\n",
    "    print(\"There is no difference in the give column.Hence the values are same\")\n",
    "elif nmed1>nmed2:\n",
    "    print(\"The column1 higher median value than the  column2\")\n",
    "else:\n",
    "    print(\"The column2 higher median value than the  column1\")\n",
    "nstat1=statistics.mode(data[number])\n",
    "nstat2=statistics.mode(data[number2])\n",
    "if nstat1==nstat2:\n",
    "    print(\"There is no difference in the give column.Hence the values are same\")\n",
    "elif nstat1>nstat2:\n",
    "    print(\"The column1 greater mode value than the  column2\")\n",
    "else:\n",
    "    print(\"The column2 greater mode value than the  column1\")"
   ]
  }
 ],
 "metadata": {
  "kernelspec": {
   "display_name": "Python 3 (ipykernel)",
   "language": "python",
   "name": "python3"
  },
  "language_info": {
   "codemirror_mode": {
    "name": "ipython",
    "version": 3
   },
   "file_extension": ".py",
   "mimetype": "text/x-python",
   "name": "python",
   "nbconvert_exporter": "python",
   "pygments_lexer": "ipython3",
   "version": "3.9.7"
  }
 },
 "nbformat": 4,
 "nbformat_minor": 5
}
